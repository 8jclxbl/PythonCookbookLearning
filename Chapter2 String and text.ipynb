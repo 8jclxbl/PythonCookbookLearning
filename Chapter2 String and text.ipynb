{
 "cells": [
  {
   "cell_type": "markdown",
   "metadata": {},
   "source": [
    "### 对于需要多种分隔符的字符串，可以基于正则表达式分割"
   ]
  },
  {
   "cell_type": "code",
   "execution_count": 2,
   "metadata": {},
   "outputs": [
    {
     "name": "stdout",
     "output_type": "stream",
     "text": [
      "['asdf', 'fjdk', 'afed', 'fjek', 'asdf', 'foo']\n"
     ]
    }
   ],
   "source": [
    "import re\n",
    "line = 'asdf fjdk; afed, fjek,asdf, foo'\n",
    "print(re.split(r'[;,\\s]\\s*', line))"
   ]
  },
  {
   "cell_type": "code",
   "execution_count": 3,
   "metadata": {},
   "outputs": [
    {
     "name": "stdout",
     "output_type": "stream",
     "text": [
      "['asdf', ' ', 'fjdk', ';', 'afed', ',', 'fjek', ',', 'asdf', ',', 'foo']\n"
     ]
    }
   ],
   "source": [
    "#如果使用括号来捕获分组，在输出的时候会将分隔符一并输出\n",
    "print(re.split(r'(;|,|\\s)\\s*', line))"
   ]
  },
  {
   "cell_type": "code",
   "execution_count": 25,
   "metadata": {},
   "outputs": [],
   "source": [
    "#基于上面的效果可以实现提取分割符和内容\n",
    "def values_and_delimiters(line):\n",
    "    line_split = re.split(r'(;|,|\\s)\\s*', line)\n",
    "    values = line_split[::2]\n",
    "    delimiters = line_split[1::2]\n",
    "    return {'delimiters':delimiters, 'values':values}\n",
    "\n",
    "def reconstruct(d_v):\n",
    "    delimiters = d_v['delimiters']\n",
    "    values = d_v['values']\n",
    "\n",
    "    #值是从第一个开始，分隔符从第二个开始，由于最后一个值后面没有对应的分隔符\n",
    "    #所以values的长度要比delimiters大一，为了保证zip可用，后面嘉盛一个空字符\n",
    "    delimiters.append('')\n",
    "    return ''.join(v+d for v,d in zip(values, delimiters))"
   ]
  },
  {
   "cell_type": "code",
   "execution_count": 26,
   "metadata": {},
   "outputs": [
    {
     "name": "stdout",
     "output_type": "stream",
     "text": [
      "asdf fjdk;afed,fjek,asdf,foo\n"
     ]
    }
   ],
   "source": [
    "temp = values_and_delimiters(line)\n",
    "print(reconstruct(temp))"
   ]
  },
  {
   "cell_type": "code",
   "execution_count": 32,
   "metadata": {},
   "outputs": [
    {
     "name": "stdout",
     "output_type": "stream",
     "text": [
      "['asdf', ' ', 'fjdk', ';', 'afed', ',', 'fjek', ',', 'asdf', ',', 'foo']\n",
      "['asdf', 'fjdk', 'afed', 'fjek', 'asdf', 'foo']\n"
     ]
    }
   ],
   "source": [
    "#使用非捕获分组可以不显示匹配项 \n",
    "#(?: ......)\n",
    "line = 'asdf fjdk; afed, fjek,asdf, foo'\n",
    "print(re.split(r'(;|,|\\s)\\s*', line))\n",
    "print(re.split(r'(?:;|,|\\s)\\s*', line))"
   ]
  },
  {
   "cell_type": "markdown",
   "metadata": {},
   "source": [
    "### 简单的字符串开头结尾匹配，有自带的函数\n",
    "\n",
    "1. str.startswith()\n",
    "2. str.endswith()\n",
    "3. 注意，如果需要加入多种可能，需要把结果转化为 *元组*\n",
    "4. str.find() 返回第一次发现pattern的index"
   ]
  },
  {
   "cell_type": "markdown",
   "metadata": {},
   "source": [
    "### 利用fnmatch使用Shell通配符匹配字符串"
   ]
  },
  {
   "cell_type": "code",
   "execution_count": 46,
   "metadata": {},
   "outputs": [],
   "source": [
    "from fnmatch import fnmatch, fnmatchcase\n",
    "#fnmatchcase:This is a version of fnmatch() which doesn't case-normalize its arguments."
   ]
  },
  {
   "cell_type": "code",
   "execution_count": 35,
   "metadata": {},
   "outputs": [
    {
     "data": {
      "text/plain": [
       "True"
      ]
     },
     "execution_count": 35,
     "metadata": {},
     "output_type": "execute_result"
    }
   ],
   "source": [
    "fnmatch('foo.txt', '*.txt')"
   ]
  },
  {
   "cell_type": "code",
   "execution_count": 36,
   "metadata": {},
   "outputs": [
    {
     "data": {
      "text/plain": [
       "False"
      ]
     },
     "execution_count": 36,
     "metadata": {},
     "output_type": "execute_result"
    }
   ],
   "source": [
    "#对于unix系统由于底层对大小写敏感，这里的结果是False\n",
    "fnmatch('foo.txt', '*.TXT')\n",
    "#对于windows则是True"
   ]
  },
  {
   "cell_type": "markdown",
   "metadata": {},
   "source": [
    "### 替换，str.replace() re.sub()\n",
    "\n",
    "1. re.subn 返回的第二个参数指示匹配成功的次数\n",
    "\n",
    "### 正则中带上flags\n",
    "`re.findall('python', text, flags=re.IGNORECASE)`\n",
    "> 加上flags"
   ]
  },
  {
   "cell_type": "code",
   "execution_count": 48,
   "metadata": {},
   "outputs": [
    {
     "data": {
      "text/plain": [
       "'UPPER snake, lower snake, Mixed snake'"
      ]
     },
     "execution_count": 48,
     "metadata": {},
     "output_type": "execute_result"
    }
   ],
   "source": [
    "text = 'UPPER PYTHON, lower python, Mixed Python'\n",
    "re.sub('python','snake', text, flags = re.IGNORECASE)"
   ]
  },
  {
   "cell_type": "code",
   "execution_count": 50,
   "metadata": {},
   "outputs": [
    {
     "data": {
      "text/plain": [
       "'UPPER SNAKE, lower snake, Mixed Snake'"
      ]
     },
     "execution_count": 50,
     "metadata": {},
     "output_type": "execute_result"
    }
   ],
   "source": [
    "#这里的忽略会导致所有的替换后的字符串和原来的大小写不一致\n",
    "#加入这样一个回调函数\n",
    "def matchcase(word):\n",
    "    def replace(m):\n",
    "        text = m.group()\n",
    "        if text.isupper():\n",
    "            return word.upper()\n",
    "        elif text.islower():\n",
    "            return word.lower()\n",
    "        elif text[0].isupper():\n",
    "            return word.capitalize()\n",
    "        else:\n",
    "            return word\n",
    "    return replace\n",
    "\n",
    "re.sub('python', matchcase('snake'), text, flags=re.IGNORECASE)"
   ]
  },
  {
   "cell_type": "code",
   "execution_count": null,
   "metadata": {},
   "outputs": [],
   "source": []
  },
  {
   "cell_type": "code",
   "execution_count": null,
   "metadata": {},
   "outputs": [],
   "source": []
  },
  {
   "cell_type": "code",
   "execution_count": null,
   "metadata": {},
   "outputs": [],
   "source": []
  },
  {
   "cell_type": "code",
   "execution_count": null,
   "metadata": {},
   "outputs": [],
   "source": []
  }
 ],
 "metadata": {
  "kernelspec": {
   "display_name": "Python 3",
   "language": "python",
   "name": "python3"
  },
  "language_info": {
   "codemirror_mode": {
    "name": "ipython",
    "version": 3
   },
   "file_extension": ".py",
   "mimetype": "text/x-python",
   "name": "python",
   "nbconvert_exporter": "python",
   "pygments_lexer": "ipython3",
   "version": "3.6.7"
  }
 },
 "nbformat": 4,
 "nbformat_minor": 2
}
