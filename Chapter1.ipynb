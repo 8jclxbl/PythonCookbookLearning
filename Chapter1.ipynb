{
 "cells": [
  {
   "cell_type": "markdown",
   "metadata": {},
   "source": [
    "### Python解包\n",
    "\n",
    "1. 解包前后的变量数目应该是一致的，否则会抛出ValueError\n",
    "2. Python不支持部分解包，只能用某一变量占位，之后丢弃\n",
    "3. 前面带\\*的变量会把余下的元素解包为一个列表，哪怕是0个变量返回一个空列表"
   ]
  },
  {
   "cell_type": "code",
   "execution_count": 2,
   "metadata": {
    "ExecuteTime": {
     "end_time": "2019-05-15T11:14:43.681591Z",
     "start_time": "2019-05-15T11:14:43.678592Z"
    }
   },
   "outputs": [],
   "source": [
    "#利用解包实现的递归求和\n",
    "def sum_(items):\n",
    "    head, *tail = items\n",
    "    return head + sum(tail) if tail else head"
   ]
  },
  {
   "cell_type": "markdown",
   "metadata": {},
   "source": [
    "### collections.deque"
   ]
  },
  {
   "cell_type": "code",
   "execution_count": 4,
   "metadata": {
    "ExecuteTime": {
     "end_time": "2019-05-15T11:18:16.769982Z",
     "start_time": "2019-05-15T11:18:16.766983Z"
    }
   },
   "outputs": [],
   "source": [
    "#保留有限历史记录\n",
    "#生成器有利于将搜索过程代码和使用搜索结果的代码解耦\n",
    "from collections import deque\n",
    "\n",
    "def search(lines, pattern, history = 5):\n",
    "    #生成一个定长队列，队列满时，加入新元素会移除旧元素\n",
    "    previous_lines = deque(maxlen = history)\n",
    "    for line in lines:\n",
    "        if pattern in line:\n",
    "            yield line,previous_lines\n",
    "        previous_lines.append(line)"
   ]
  },
  {
   "cell_type": "markdown",
   "metadata": {
    "ExecuteTime": {
     "end_time": "2019-05-15T11:20:02.343550Z",
     "start_time": "2019-05-15T11:20:02.317515Z"
    }
   },
   "source": [
    "### heapq"
   ]
  },
  {
   "cell_type": "code",
   "execution_count": 11,
   "metadata": {
    "ExecuteTime": {
     "end_time": "2019-05-15T11:33:15.047859Z",
     "start_time": "2019-05-15T11:33:15.044859Z"
    }
   },
   "outputs": [
    {
     "name": "stdout",
     "output_type": "stream",
     "text": [
      "[42, 37, 23]\n",
      "[-4, 1, 2]\n"
     ]
    }
   ],
   "source": [
    "#N个最大最小，用堆比较好\n",
    "import heapq\n",
    "\n",
    "nums = [1, 8, 2, 23, 7, -4, 18, 23, 42, 37, 2]\n",
    "\n",
    "print(heapq.nlargest(3,nums))\n",
    "print(heapq.nsmallest(3,nums))"
   ]
  },
  {
   "cell_type": "code",
   "execution_count": 12,
   "metadata": {
    "ExecuteTime": {
     "end_time": "2019-05-15T11:33:23.615243Z",
     "start_time": "2019-05-15T11:33:23.611242Z"
    }
   },
   "outputs": [],
   "source": [
    "#基于堆实现的优先级队列\n",
    "class PriorityQueue:\n",
    "    def __init__(self):\n",
    "        self._queue = []\n",
    "        self._index = 0\n",
    "        \n",
    "    def push(self, item, priority):\n",
    "        heapq.heappush(self._queue, (-priority, self._index, item))\n",
    "        self._index += 1\n",
    "        \n",
    "    #index保证，优先级一致时，根据插入顺序输出\n",
    "    #基于Python的元组比较，从左到右依此比较，如果已经比较出结果，后面的就不进行了\n",
    "    def pop(self):\n",
    "        return heapq.heappop(self._queue)[-1]"
   ]
  },
  {
   "cell_type": "code",
   "execution_count": 7,
   "metadata": {
    "ExecuteTime": {
     "end_time": "2019-05-15T11:31:40.809286Z",
     "start_time": "2019-05-15T11:31:40.805316Z"
    }
   },
   "outputs": [],
   "source": [
    "class Item:\n",
    "    def __init__(self, name):\n",
    "        self.name = name\n",
    "        \n",
    "    def __repr__(self):\n",
    "        return 'Item({!r})'.format(self.name)"
   ]
  },
  {
   "cell_type": "code",
   "execution_count": 13,
   "metadata": {
    "ExecuteTime": {
     "end_time": "2019-05-15T11:33:26.374484Z",
     "start_time": "2019-05-15T11:33:26.371505Z"
    }
   },
   "outputs": [],
   "source": [
    "q = PriorityQueue()\n",
    "q.push(Item('foo'), 1)\n",
    "q.push(Item('bar'), 5)\n",
    "q.push(Item('spam'), 4)\n",
    "q.push(Item('grok'), 1)"
   ]
  },
  {
   "cell_type": "code",
   "execution_count": 16,
   "metadata": {
    "ExecuteTime": {
     "end_time": "2019-05-15T11:33:37.928073Z",
     "start_time": "2019-05-15T11:33:37.924071Z"
    }
   },
   "outputs": [
    {
     "data": {
      "text/plain": [
       "[(-5, 1, Item('bar')),\n",
       " (-1, 0, Item('foo')),\n",
       " (-4, 2, Item('spam')),\n",
       " (-1, 3, Item('grok'))]"
      ]
     },
     "execution_count": 16,
     "metadata": {},
     "output_type": "execute_result"
    }
   ],
   "source": [
    "q._queue"
   ]
  },
  {
   "cell_type": "code",
   "execution_count": 17,
   "metadata": {
    "ExecuteTime": {
     "end_time": "2019-05-15T11:35:04.830273Z",
     "start_time": "2019-05-15T11:35:04.827271Z"
    }
   },
   "outputs": [
    {
     "data": {
      "text/plain": [
       "Item('bar')"
      ]
     },
     "execution_count": 17,
     "metadata": {},
     "output_type": "execute_result"
    }
   ],
   "source": [
    "q.pop()"
   ]
  },
  {
   "cell_type": "markdown",
   "metadata": {},
   "source": [
    "### 基于collections.defaultdict构造多值字典"
   ]
  },
  {
   "cell_type": "code",
   "execution_count": 18,
   "metadata": {
    "ExecuteTime": {
     "end_time": "2019-05-15T11:37:45.742603Z",
     "start_time": "2019-05-15T11:37:45.738631Z"
    }
   },
   "outputs": [],
   "source": [
    "from collections import defaultdict\n",
    "#指定字典值的类型"
   ]
  },
  {
   "cell_type": "code",
   "execution_count": 25,
   "metadata": {
    "ExecuteTime": {
     "end_time": "2019-05-15T11:39:12.888686Z",
     "start_time": "2019-05-15T11:39:12.884653Z"
    }
   },
   "outputs": [
    {
     "name": "stdout",
     "output_type": "stream",
     "text": [
      "defaultdict(<class 'list'>, {'a': [1, 2]})\n"
     ]
    }
   ],
   "source": [
    "d = defaultdict(list)\n",
    "d['a'].append(1)\n",
    "d['a'].append(2)\n",
    "print(d)"
   ]
  },
  {
   "cell_type": "code",
   "execution_count": 23,
   "metadata": {
    "ExecuteTime": {
     "end_time": "2019-05-15T11:39:02.022662Z",
     "start_time": "2019-05-15T11:39:02.018632Z"
    }
   },
   "outputs": [
    {
     "name": "stdout",
     "output_type": "stream",
     "text": [
      "defaultdict(<class 'set'>, {'a': {1, 2}})\n"
     ]
    }
   ],
   "source": [
    "e = defaultdict(set)\n",
    "e['a'].add(1)\n",
    "e['a'].add(2)\n",
    "print(e)"
   ]
  },
  {
   "cell_type": "code",
   "execution_count": 28,
   "metadata": {
    "ExecuteTime": {
     "end_time": "2019-05-15T11:41:01.725156Z",
     "start_time": "2019-05-15T11:41:01.722124Z"
    }
   },
   "outputs": [
    {
     "name": "stdout",
     "output_type": "stream",
     "text": [
      "{'a': [1, 2]}\n"
     ]
    }
   ],
   "source": [
    "#也可以利用setdefault来实现\n",
    "f = {}\n",
    "f.setdefault('a', []).append(1)\n",
    "f.setdefault('a', []).append(2)\n",
    "print(f)"
   ]
  },
  {
   "cell_type": "markdown",
   "metadata": {},
   "source": [
    "### collections.OrderDict\n",
    "\n",
    "由于内部维护着两个链表，其大小时普通字典的两倍"
   ]
  },
  {
   "cell_type": "code",
   "execution_count": 33,
   "metadata": {
    "ExecuteTime": {
     "end_time": "2019-05-15T12:06:40.860669Z",
     "start_time": "2019-05-15T12:06:40.856729Z"
    }
   },
   "outputs": [
    {
     "name": "stdout",
     "output_type": "stream",
     "text": [
      "{45.23: 'ACME', 612.78: 'AAPL', 205.55: 'IBM', 37.2: 'HPQ', 10.75: 'FB'}\n"
     ]
    }
   ],
   "source": [
    "#利用zip实现字典键值反转\n",
    "prices = {\n",
    "    'ACME': 45.23,\n",
    "    'AAPL': 612.78,\n",
    "    'IBM': 205.55,\n",
    "    'HPQ': 37.20,\n",
    "    'FB': 10.75\n",
    "}\n",
    "\n",
    "#注意zip返回的是一个只能访问一次的迭代器\n",
    "prices_vk = zip(prices.values(), prices.keys())\n",
    "print(dict(prices_vk))\n",
    "\n",
    "#如果仅需要进行值的比较，直接zip后的结果比较即可。比较时会较结果视作元组"
   ]
  },
  {
   "cell_type": "code",
   "execution_count": 43,
   "metadata": {
    "ExecuteTime": {
     "end_time": "2019-05-15T12:12:00.746124Z",
     "start_time": "2019-05-15T12:12:00.742125Z"
    }
   },
   "outputs": [],
   "source": [
    "#获取字典中相同的键，可以直接堆.keys()的结果进行&运算；也支持-求差集\n",
    "#即进行集合操作\n",
    "#values()不支持集合操作（可能会出现重复值）\n",
    "a = {\n",
    "    'x' : 1,\n",
    "    'y' : 2,\n",
    "    'z' : 3\n",
    "}\n",
    "\n",
    "b = {\n",
    "    'w' : 10,\n",
    "    'x' : 11,\n",
    "    'y' : 2\n",
    "}"
   ]
  },
  {
   "cell_type": "code",
   "execution_count": 40,
   "metadata": {
    "ExecuteTime": {
     "end_time": "2019-05-15T12:09:31.835796Z",
     "start_time": "2019-05-15T12:09:31.832765Z"
    }
   },
   "outputs": [
    {
     "data": {
      "text/plain": [
       "{'x', 'y'}"
      ]
     },
     "execution_count": 40,
     "metadata": {},
     "output_type": "execute_result"
    }
   ],
   "source": [
    "a.keys() & b.keys()"
   ]
  },
  {
   "cell_type": "code",
   "execution_count": 41,
   "metadata": {
    "ExecuteTime": {
     "end_time": "2019-05-15T12:09:49.528849Z",
     "start_time": "2019-05-15T12:09:49.525855Z"
    }
   },
   "outputs": [
    {
     "data": {
      "text/plain": [
       "{'z'}"
      ]
     },
     "execution_count": 41,
     "metadata": {},
     "output_type": "execute_result"
    }
   ],
   "source": [
    "a.keys() - b.keys()"
   ]
  },
  {
   "cell_type": "code",
   "execution_count": 42,
   "metadata": {
    "ExecuteTime": {
     "end_time": "2019-05-15T12:10:06.499713Z",
     "start_time": "2019-05-15T12:10:06.495730Z"
    }
   },
   "outputs": [
    {
     "data": {
      "text/plain": [
       "{('y', 2)}"
      ]
     },
     "execution_count": 42,
     "metadata": {},
     "output_type": "execute_result"
    }
   ],
   "source": [
    "a.items() & b.items()"
   ]
  },
  {
   "cell_type": "code",
   "execution_count": 51,
   "metadata": {
    "ExecuteTime": {
     "end_time": "2019-05-15T12:19:02.723390Z",
     "start_time": "2019-05-15T12:19:02.719390Z"
    }
   },
   "outputs": [],
   "source": [
    "#删除序列相同元素并保持顺序\n",
    "#直接使用set会使得顺序被打乱\n",
    "def dedupe(items):\n",
    "    seen = set()\n",
    "    for item in items:\n",
    "        #要求元素必须时可哈希的\n",
    "        if item not in seen:\n",
    "            yield item\n",
    "            seen.add(item)"
   ]
  },
  {
   "cell_type": "code",
   "execution_count": 45,
   "metadata": {
    "ExecuteTime": {
     "end_time": "2019-05-15T12:14:07.106798Z",
     "start_time": "2019-05-15T12:14:07.103773Z"
    }
   },
   "outputs": [
    {
     "data": {
      "text/plain": [
       "[1, 5, 2, 9, 10]"
      ]
     },
     "execution_count": 45,
     "metadata": {},
     "output_type": "execute_result"
    }
   ],
   "source": [
    "a = [1, 5, 2, 1, 9, 1, 5, 10]\n",
    "list(dedupe(a))"
   ]
  },
  {
   "cell_type": "code",
   "execution_count": 49,
   "metadata": {
    "ExecuteTime": {
     "end_time": "2019-05-15T12:18:12.586288Z",
     "start_time": "2019-05-15T12:18:12.582287Z"
    }
   },
   "outputs": [],
   "source": [
    "def dedupe(items, key=None):\n",
    "    seen = set()\n",
    "    for item in items:\n",
    "        #针对不可hash的元素的处理，这里的key可以利用lambda表达式来进行一定的处理\n",
    "        val = item if key is None else key(item)\n",
    "        if val not in seen:\n",
    "            yield item\n",
    "            seen.add(val)"
   ]
  },
  {
   "cell_type": "code",
   "execution_count": 50,
   "metadata": {
    "ExecuteTime": {
     "end_time": "2019-05-15T12:18:13.276316Z",
     "start_time": "2019-05-15T12:18:13.270315Z"
    }
   },
   "outputs": [
    {
     "data": {
      "text/plain": [
       "[{'x': 1, 'y': 2}, {'x': 1, 'y': 3}, {'x': 2, 'y': 4}]"
      ]
     },
     "execution_count": 50,
     "metadata": {},
     "output_type": "execute_result"
    }
   ],
   "source": [
    "a = [ {'x':1, 'y':2}, {'x':1, 'y':3}, {'x':1, 'y':2}, {'x':2, 'y':4}]\n",
    "list(dedupe(a, key=lambda d: (d['x'],d['y'])))"
   ]
  },
  {
   "cell_type": "code",
   "execution_count": 58,
   "metadata": {
    "ExecuteTime": {
     "end_time": "2019-05-15T12:21:57.448040Z",
     "start_time": "2019-05-15T12:21:57.444013Z"
    }
   },
   "outputs": [
    {
     "data": {
      "text/plain": [
       "[2, 3]"
      ]
     },
     "execution_count": 58,
     "metadata": {},
     "output_type": "execute_result"
    }
   ],
   "source": [
    "#slice 创建一个切片\n",
    "a = slice(1,3)\n",
    "#通过给切片一个更好理解的名字提升代码的可读性\n",
    "b = [1,2,3,4,5]\n",
    "b[a]"
   ]
  },
  {
   "cell_type": "code",
   "execution_count": 64,
   "metadata": {
    "ExecuteTime": {
     "end_time": "2019-05-15T12:25:50.110631Z",
     "start_time": "2019-05-15T12:25:50.106631Z"
    }
   },
   "outputs": [],
   "source": [
    "a = slice(5, 50, 2)"
   ]
  },
  {
   "cell_type": "code",
   "execution_count": 67,
   "metadata": {
    "ExecuteTime": {
     "end_time": "2019-05-15T12:26:32.974915Z",
     "start_time": "2019-05-15T12:26:32.971953Z"
    }
   },
   "outputs": [
    {
     "name": "stdout",
     "output_type": "stream",
     "text": [
      "(5, 10, 2)\n",
      "W 5\n",
      "r 7\n",
      "d 9\n"
     ]
    }
   ],
   "source": [
    "s = 'HelloWorld'\n",
    "#直接输出 start stop step,解包的结果则时slice的所有的下标，会根据给出序列的长度进行一定的映射\n",
    "#使得适合xue'li'e'de\n",
    "print(a.indices(len(s)))\n",
    "for i in range(*a.indices(len(s))):\n",
    "    print(s[i],i)"
   ]
  },
  {
   "cell_type": "code",
   "execution_count": 1,
   "metadata": {
    "ExecuteTime": {
     "end_time": "2019-05-15T12:39:59.251788Z",
     "start_time": "2019-05-15T12:39:59.249787Z"
    }
   },
   "outputs": [],
   "source": [
    "from collections import Counter"
   ]
  },
  {
   "cell_type": "markdown",
   "metadata": {},
   "source": [
    "### collections.Counter\n",
    "\n",
    "#### 可以接受任意的可哈希元素组成的序列对象\n",
    "1. most_common()\n",
    "2. update(),向一个已有的Counter中引入新的数据\n",
    "3. Counter之间可以进行集合运算"
   ]
  },
  {
   "cell_type": "markdown",
   "metadata": {},
   "source": [
    "### operator的itemgetter函数\n",
    "\n",
    "#### 获取某个key对应的值，可以同时获取多个key；也可以用lambda来实现，不过itemgetter要快一些"
   ]
  },
  {
   "cell_type": "code",
   "execution_count": 2,
   "metadata": {
    "ExecuteTime": {
     "end_time": "2019-05-15T12:46:07.649498Z",
     "start_time": "2019-05-15T12:46:07.646497Z"
    }
   },
   "outputs": [],
   "source": [
    "rows = [\n",
    "    {'fname': 'Brian', 'lname': 'Jones', 'uid': 1003},\n",
    "    {'fname': 'David', 'lname': 'Beazley', 'uid': 1002},\n",
    "    {'fname': 'John', 'lname': 'Cleese', 'uid': 1001},\n",
    "    {'fname': 'Big', 'lname': 'Jones', 'uid': 1004}\n",
    "]"
   ]
  },
  {
   "cell_type": "code",
   "execution_count": 3,
   "metadata": {
    "ExecuteTime": {
     "end_time": "2019-05-15T12:46:13.693673Z",
     "start_time": "2019-05-15T12:46:13.688675Z"
    }
   },
   "outputs": [
    {
     "name": "stdout",
     "output_type": "stream",
     "text": [
      "[{'fname': 'Big', 'lname': 'Jones', 'uid': 1004}, {'fname': 'Brian', 'lname': 'Jones', 'uid': 1003}, {'fname': 'David', 'lname': 'Beazley', 'uid': 1002}, {'fname': 'John', 'lname': 'Cleese', 'uid': 1001}]\n",
      "[{'fname': 'John', 'lname': 'Cleese', 'uid': 1001}, {'fname': 'David', 'lname': 'Beazley', 'uid': 1002}, {'fname': 'Brian', 'lname': 'Jones', 'uid': 1003}, {'fname': 'Big', 'lname': 'Jones', 'uid': 1004}]\n"
     ]
    }
   ],
   "source": [
    "from operator import itemgetter\n",
    "rows_by_fname = sorted(rows, key=itemgetter('fname'))\n",
    "rows_by_uid = sorted(rows, key=itemgetter('uid'))\n",
    "print(rows_by_fname)\n",
    "print(rows_by_uid)"
   ]
  },
  {
   "cell_type": "markdown",
   "metadata": {},
   "source": [
    "### itertools.groupby()\n",
    "\n",
    "* 扫描整个序列并且查找连续相同值,所以使用的时候要先排序"
   ]
  },
  {
   "cell_type": "code",
   "execution_count": 8,
   "metadata": {
    "ExecuteTime": {
     "end_time": "2019-05-15T12:51:02.804789Z",
     "start_time": "2019-05-15T12:51:02.799789Z"
    }
   },
   "outputs": [],
   "source": [
    "rows = [\n",
    "    {'address': '5412 N CLARK', 'date': '07/01/2012'},\n",
    "    {'address': '5148 N CLARK', 'date': '07/04/2012'},\n",
    "    {'address': '5800 E 58TH', 'date': '07/02/2012'},\n",
    "    {'address': '2122 N CLARK', 'date': '07/03/2012'},\n",
    "    {'address': '5645 N RAVENSWOOD', 'date': '07/02/2012'},\n",
    "    {'address': '1060 W ADDISON', 'date': '07/02/2012'},\n",
    "    {'address': '4801 N BROADWAY', 'date': '07/01/2012'},\n",
    "    {'address': '1039 W GRANVILLE', 'date': '07/04/2012'},\n",
    "]"
   ]
  },
  {
   "cell_type": "code",
   "execution_count": 5,
   "metadata": {
    "ExecuteTime": {
     "end_time": "2019-05-15T12:49:38.894131Z",
     "start_time": "2019-05-15T12:49:38.889118Z"
    }
   },
   "outputs": [
    {
     "name": "stdout",
     "output_type": "stream",
     "text": [
      "07/01/2012\n",
      "  {'address': '5412 N CLARK', 'date': '07/01/2012'}\n",
      "  {'address': '4801 N BROADWAY', 'date': '07/01/2012'}\n",
      "07/02/2012\n",
      "  {'address': '5800 E 58TH', 'date': '07/02/2012'}\n",
      "  {'address': '5645 N RAVENSWOOD', 'date': '07/02/2012'}\n",
      "  {'address': '1060 W ADDISON', 'date': '07/02/2012'}\n",
      "07/03/2012\n",
      "  {'address': '2122 N CLARK', 'date': '07/03/2012'}\n",
      "07/04/2012\n",
      "  {'address': '5148 N CLARK', 'date': '07/04/2012'}\n",
      "  {'address': '1039 W GRANVILLE', 'date': '07/04/2012'}\n"
     ]
    }
   ],
   "source": [
    "from operator import itemgetter\n",
    "from itertools import groupby\n",
    "\n",
    "# Sort by the desired field first\n",
    "rows.sort(key=itemgetter('date'))\n",
    "# Iterate in groups\n",
    "#它会返回一个值和一个迭代器对象， 这个迭代器对象可以生成元素值全部等于上面那个值的组中所有对象。\n",
    "for date, items in groupby(rows, key=itemgetter('date')):\n",
    "    print(date)\n",
    "    for i in items:\n",
    "        print(' ', i)"
   ]
  },
  {
   "cell_type": "code",
   "execution_count": 7,
   "metadata": {
    "ExecuteTime": {
     "end_time": "2019-05-15T12:50:07.084019Z",
     "start_time": "2019-05-15T12:50:07.079998Z"
    }
   },
   "outputs": [
    {
     "data": {
      "text/plain": [
       "{'07/01/2012': <itertools._grouper at 0x233e4dafd30>,\n",
       " '07/02/2012': <itertools._grouper at 0x233e4dafef0>,\n",
       " '07/03/2012': <itertools._grouper at 0x233e4daff60>,\n",
       " '07/04/2012': <itertools._grouper at 0x233e4daf7b8>}"
      ]
     },
     "execution_count": 7,
     "metadata": {},
     "output_type": "execute_result"
    }
   ],
   "source": [
    "dict(groupby(rows, key=itemgetter('date')))"
   ]
  },
  {
   "cell_type": "markdown",
   "metadata": {},
   "source": [
    "* 对于列表表达式，如果把方括号换成一般的括号，会生成一个对应的生成器"
   ]
  },
  {
   "cell_type": "markdown",
   "metadata": {},
   "source": [
    "### itertools.compress()\n",
    "\n",
    "它以一个 iterable 对象和一个相对应的 Boolean 选择器序列作为输入参数。 然后输出 iterable 对象中对应选择器为 True 的元素。"
   ]
  },
  {
   "cell_type": "code",
   "execution_count": 9,
   "metadata": {
    "ExecuteTime": {
     "end_time": "2019-05-15T12:55:04.896976Z",
     "start_time": "2019-05-15T12:55:04.892945Z"
    }
   },
   "outputs": [],
   "source": [
    "addresses = [\n",
    "    '5412 N CLARK',\n",
    "    '5148 N CLARK',\n",
    "    '5800 E 58TH',\n",
    "    '2122 N CLARK',\n",
    "    '5645 N RAVENSWOOD',\n",
    "    '1060 W ADDISON',\n",
    "    '4801 N BROADWAY',\n",
    "    '1039 W GRANVILLE',\n",
    "]\n",
    "counts = [ 0, 3, 10, 4, 1, 7, 6, 1]"
   ]
  },
  {
   "cell_type": "code",
   "execution_count": 13,
   "metadata": {
    "ExecuteTime": {
     "end_time": "2019-05-15T12:55:57.449598Z",
     "start_time": "2019-05-15T12:55:57.446596Z"
    }
   },
   "outputs": [
    {
     "name": "stdout",
     "output_type": "stream",
     "text": [
      "[False, False, True, False, False, True, True, False]\n"
     ]
    },
    {
     "data": {
      "text/plain": [
       "['5800 E 58TH', '1060 W ADDISON', '4801 N BROADWAY']"
      ]
     },
     "execution_count": 13,
     "metadata": {},
     "output_type": "execute_result"
    }
   ],
   "source": [
    "from itertools import compress\n",
    "more5 = [n > 5 for n in counts]\n",
    "print(more5)\n",
    "list(compress(addresses, more5))"
   ]
  },
  {
   "cell_type": "markdown",
   "metadata": {},
   "source": [
    "### collections.ChainMap 实现多个字典或映射的合并\n",
    "\n",
    "* 只是逻辑上的合并\n",
    "* 相较于直接update实现真正的合并，这样做可式使得当原始的对象发生改变时能直接反映在合并结果中"
   ]
  },
  {
   "cell_type": "code",
   "execution_count": 15,
   "metadata": {
    "ExecuteTime": {
     "end_time": "2019-05-15T13:00:22.362083Z",
     "start_time": "2019-05-15T13:00:22.359118Z"
    }
   },
   "outputs": [],
   "source": [
    "from collections import ChainMap"
   ]
  },
  {
   "cell_type": "code",
   "execution_count": 16,
   "metadata": {
    "ExecuteTime": {
     "end_time": "2019-05-15T13:01:08.473147Z",
     "start_time": "2019-05-15T13:01:08.471146Z"
    }
   },
   "outputs": [],
   "source": [
    "a = {'x':1,'z':3}\n",
    "b = {'z':2,'y':4}"
   ]
  },
  {
   "cell_type": "code",
   "execution_count": 17,
   "metadata": {
    "ExecuteTime": {
     "end_time": "2019-05-15T13:01:30.385836Z",
     "start_time": "2019-05-15T13:01:30.382790Z"
    }
   },
   "outputs": [
    {
     "name": "stdout",
     "output_type": "stream",
     "text": [
      "ChainMap({'x': 1, 'z': 3}, {'z': 2, 'y': 4})\n"
     ]
    }
   ],
   "source": [
    "c = ChainMap(a,b)\n",
    "print(c)"
   ]
  },
  {
   "cell_type": "code",
   "execution_count": 19,
   "metadata": {
    "ExecuteTime": {
     "end_time": "2019-05-15T13:01:42.899025Z",
     "start_time": "2019-05-15T13:01:42.893992Z"
    }
   },
   "outputs": [
    {
     "data": {
      "text/plain": [
       "3"
      ]
     },
     "execution_count": 19,
     "metadata": {},
     "output_type": "execute_result"
    }
   ],
   "source": [
    "#先在第一个数组中查找，找不到再去第二个里面查找\n",
    "c['z']"
   ]
  },
  {
   "cell_type": "code",
   "execution_count": null,
   "metadata": {},
   "outputs": [],
   "source": []
  },
  {
   "cell_type": "code",
   "execution_count": null,
   "metadata": {},
   "outputs": [],
   "source": []
  },
  {
   "cell_type": "code",
   "execution_count": null,
   "metadata": {},
   "outputs": [],
   "source": []
  }
 ],
 "metadata": {
  "kernelspec": {
   "display_name": "Python [conda root]",
   "language": "python",
   "name": "conda-root-py"
  },
  "language_info": {
   "codemirror_mode": {
    "name": "ipython",
    "version": 3
   },
   "file_extension": ".py",
   "mimetype": "text/x-python",
   "name": "python",
   "nbconvert_exporter": "python",
   "pygments_lexer": "ipython3",
   "version": "3.6.5"
  }
 },
 "nbformat": 4,
 "nbformat_minor": 2
}
